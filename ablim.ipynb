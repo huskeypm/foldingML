{
  "cells": [
    {
      "cell_type": "markdown",
      "metadata": {
        "id": "3gSdadt0qfQV"
      },
      "source": [
        "## Notebook for performing polymer modeling in ablim paper\n",
        "\n",
        "- local cider needed for disorder/charge density predictions\n",
        "- parameters for model derived from molecular simulations"
      ]
    },
    {
      "cell_type": "code",
      "execution_count": null,
      "metadata": {
        "id": "BxV4uupecYLR"
      },
      "outputs": [],
      "source": [
        "!pip3 install localcider\n",
        "import localcider\n",
        "from localcider.sequenceParameters import SequenceParameters\n",
        "from localcider import plots\n",
        "import re\n",
        "import os"
      ]
    },
    {
      "cell_type": "code",
      "execution_count": 2,
      "metadata": {
        "id": "Ijy7T_H7gud7"
      },
      "outputs": [],
      "source": [
        "import numpy as np\n",
        "import matplotlib.pylab as plt\n",
        "import numpy as np\n",
        "import matplotlib.pylab as plt\n"
      ]
    },
    {
      "cell_type": "markdown",
      "metadata": {
        "id": "J9NZVAOQ-Q07"
      },
      "source": [
        "ABLIM1 seq\n",
        "MPAFLGLKCLGKLCSSEKSKVTSSERTSARGSNRKRLIVEDRRVSGTSFTAHRRATITHLLYLCPKDYCPRGRVCNSVDPFVAHPQDPHHPSEKPVIHCHKCGEPCKGEVLRVQTKHFHIKCFTCKVCGCDLAQGGFFIKNGEYLCTLDYQRMYGTRCHGCGEFVEGEVVTALGKTYHPNCFACTICKRPFPPGDRVTFNGRDCLCQLCAQPMSSSPKETTFSSNCAGCGRDIKNGQALLALDKQWHLGCFKCKSCGKVLTGEYISKDGAPYCEKDYQGLFGVKCEACHQFITGKVLEAGDKHYHPSCARCSRCNQMFTEGEEMYLQGSTVWHPDCKQSTKTEEKLRPTRTSSESIYSRPGSSIPGSPGHTIYAKVDNEILDYKDLAAIPKVKAIYDIERPDLITYEPFYTSGYDDKQERQSLGESPRTLSPTPSAEGYQDVRDRMIHRSTSQGSINSPVYSRHSYTPTTSRSPQHFHRPGNEPSSGRNSPLPYRPDSRPLTPTYAQAPKHFHVPDQGINIYRKPPIYKQHAALAAQSKSSEDIIKFSKFPAAQAPDPSETPKIETDHWPGPPSFAVVGPDMKRRSSGREEDDEELLRRRQLQEEQLMKLNSGLGQLILKEEMEKESRERSSLLASRYDSPINSASHIPSSKTASLPGYGRNGLHRPVSTDFAQYNSYGDVSGGVRDYQTLPDGHMPAMRMDRGVSMPNMLEPKIFPYEMLMVTNRGRNKILREVDRTRLERHLAPEVFREIFGMSIQEFDRLPLWRRNDMKKKAKLF"
      ]
    },
    {
      "cell_type": "markdown",
      "metadata": {
        "id": "wm4kJ2eV-aVt"
      },
      "source": [
        "ABLIM2 seq\n",
        "MSAVSQPQAAPSPLEKSPSTAILCNTCGNVCKGEVLRVQDKYFHIKCFVCKACGCDLAEGGFFVRQGEYICTLDYQRLYGTRCFSCDQFIEGEVVSALGKTYHPDCFVCAVCRLPFPPGDRVTFNGKECMCQKCSLPVSVGSSAHLSQGLRSCGGCGTEIKNGQALVALDKHWHLGCFKCKSCGKLLNAEYISKDGLPYCEADYHAKFGIRCDSCEKYITGRVLEAGEKHYHPSCALCVRCGQMFAEGEEMYLQGSSIWHPACRQAARTEDRNKETRTSSESIISVPASSTSGSPSRVIYAKLGGEILDYRDLAALPKSKAIYDIDRPDMISYSPYISHSAGDRQSYGEGDQDDRSYKQCRTSSPSSTGSVSLGRYTPTSRSPQHYSRPGSESGRSTPSLSVLSDSKPPPSTYQQAPRHFHVPDTGVKDNIYRKPPIYRQHAARRSDGEDGSLDQDNRKKSSWLMLKGDADTRTNSPDLDTQSLSHSSGTDRDPLQRMAGDSFHSRFPYSKSDPLPGHGKNGLDQRNANLAPCGADPDASWGMREYKIYPYDSLIVTNRIRVKLPKDVDRTRLERHLSPEEFQEVFGMSIEEFDRLALWKRNDLKKKALLF\n",
        "\n",
        "MYBPC seq (hairpin)\n",
        "RSAFRRTSLAGAGRRTSDSHED\n"
      ]
    },
    {
      "cell_type": "markdown",
      "metadata": {
        "id": "4U26G6MF-fPM"
      },
      "source": [
        "* ABLIM1's LIM domains span 97-343\n",
        "* ABLIM2's LIM domains span 22-270\n",
        "Aligned sequences using blast\n",
        "\n",
        "\n"
      ]
    },
    {
      "cell_type": "code",
      "execution_count": null,
      "metadata": {
        "colab": {
          "base_uri": "https://localhost:8080/"
        },
        "id": "Pgm14IXGgvlB",
        "outputId": "ef27e72d-6d73-4c18-e3cc-6a005e2b1d27"
      },
      "outputs": [
        {
          "name": "stdout",
          "output_type": "stream",
          "text": [
            "EKLRPTRTSSESIYSRPGSSIPGSPGHTIYAKVDNEILDYKDLAAIPKVKAIYDIERPDLITYEPFYTSGYDDKQERQSLGESPRTLSPTPSAEGYQDVRDRMIHRDTDQGSINSPVYSRHSYTPTTSRS\n",
            "EKLRPTRTSSESIYSRPGSSIPGSPGHTIYAKVDNEILDYKDLAAIPKVKAIYDIERPDLITYEPFYTSGYDDKQERQSLGESPRTLSPTPSAEGYQDVRDRMIHRSTSQGSINSPVYSRHSYTPTTSRS\n",
            "True\n"
          ]
        }
      ],
      "source": [
        "fastaAblim1='MPAFLGLKCLGKLCSSEKSKVTSSERTSARGSNRKRLIVEDRRVSGTSFTAHRRATITHLLYLCPKDYCPRGRVCNSVDPFVAHPQDPHHPSEKPVIHCHKCGEPCKGEVLRVQTKHFHIKCFTCKVCGCDLAQGGFFIKNGEYLCTLDYQRMYGTRCHGCGEFVEGEVVTALGKTYHPNCFACTICKRPFPPGDRVTFNGRDCLCQLCAQPMSSSPKETTFSSNCAGCGRDIKNGQALLALDKQWHLGCFKCKSCGKVLTGEYISKDGAPYCEKDYQGLFGVKCEACHQFITGKVLEAGDKHYHPSCARCSRCNQMFTEGEEMYLQGSTVWHPDCKQSTKTEEKLRPTRTSSESIYSRPGSSIPGSPGHTIYAKVDNEILDYKDLAAIPKVKAIYDIERPDLITYEPFYTSGYDDKQERQSLGESPRTLSPTPSAEGYQDVRDRMIHRSTSQGSINSPVYSRHSYTPTTSRSPQHFHRPGNEPSSGRNSPLPYRPDSRPLTPTYAQAPKHFHVPDQGINIYRKPPIYKQHAALAAQSKSSEDIIKFSKFPAAQAPDPSETPKIETDHWPGPPSFAVVGPDMKRRSSGREEDDEELLRRRQLQEEQLMKLNSGLGQLILKEEMEKESRERSSLLASRYDSPINSASHIPSSKTASLPGYGRNGLHRPVSTDFAQYNSYGDVSGGVRDYQTLPDGHMPAMRMDRGVSMPNMLEPKIFPYEMLMVTNRGRNKILREVDRTRLERHLAPEVFREIFGMSIQEFDRLPLWRRNDMKKKAKLF'\n",
        "short = fastaAblim1[343:473]\n",
        "dshort = short.replace('STS','DTD')\n",
        "print(dshort)\n",
        "print(short)\n",
        "print(\"STS\" in short)\n"
      ]
    },
    {
      "cell_type": "code",
      "execution_count": null,
      "metadata": {
        "id": "KrmenSJ3qfQZ"
      },
      "outputs": [],
      "source": []
    },
    {
      "cell_type": "markdown",
      "metadata": {
        "id": "yRcAAyL38aBz"
      },
      "source": [
        "ABLIM1's disordered N-term region spans 1-97 and C-term region starts after 373"
      ]
    },
    {
      "cell_type": "code",
      "execution_count": null,
      "metadata": {
        "colab": {
          "base_uri": "https://localhost:8080/"
        },
        "id": "wf-OCjlF8RQ-",
        "outputId": "f9ce2d2d-b448-4a82-de5e-ec262d7c41b9"
      },
      "outputs": [
        {
          "name": "stdout",
          "output_type": "stream",
          "text": [
            "0\n",
            "209\n",
            "AQPMSSSPKETTF 13\n"
          ]
        }
      ],
      "source": [
        "fastaAblim1Cterm = fastaAblim1[373:]\n",
        "len(fastaAblim1Cterm)\n",
        "fastaAblim1Nterm = fastaAblim1[0:97]\n",
        "index = fastaAblim1.find('MPAF')\n",
        "print(index) # confirming idx=0\n",
        "\n",
        "index = fastaAblim1.find('AQPMSSSPKETTF')\n",
        "print(index)\n",
        "msssp=fastaAblim1[index:(index+13)]\n",
        "print( msssp, len(msssp))\n",
        "msdsp=\"AQPMSDSPMKETTF\""
      ]
    },
    {
      "cell_type": "markdown",
      "metadata": {
        "id": "oJK39lTlqy-X"
      },
      "source": [
        "## CIDER"
      ]
    },
    {
      "cell_type": "markdown",
      "metadata": {
        "id": "9TuHPyXfFw9w"
      },
      "source": []
    },
    {
      "cell_type": "code",
      "execution_count": null,
      "metadata": {
        "id": "6qWA6jDOq2wR"
      },
      "outputs": [],
      "source": []
    },
    {
      "cell_type": "code",
      "execution_count": null,
      "metadata": {
        "colab": {
          "base_uri": "https://localhost:8080/"
        },
        "id": "zdaKOPzyFyXm",
        "outputId": "1f1445c6-65b4-4f6e-d52a-5aa73a7583cb"
      },
      "outputs": [
        {
          "name": "stdout",
          "output_type": "stream",
          "text": [
            "Cterm frag fp 0.15\n",
            "Cterm frag fn 0.00\n",
            "ppCterm frag fp 0.15\n",
            "ppCterm frag fn 0.15\n",
            "AQPMSSSPKETTF\n",
            "msssp fp 0.08\n",
            "msssp fn 0.08\n",
            "msdsp fp 0.07\n",
            "msdsp fn 0.14\n"
          ]
        }
      ],
      "source": [
        "a='RMIHRSTSQGSIN' # contains S450 and S452 sites\n",
        "data = SequenceParameters(a)\n",
        "print(\"Cterm frag fp %4.2f\"%data.get_fraction_positive( ) )\n",
        "print(\"Cterm frag fn %4.2f\"%data.get_fraction_negative() )\n",
        "\n",
        "b='RMIHRDTDQGSIN'\n",
        "data = SequenceParameters(b)\n",
        "print(\"ppCterm frag fp %4.2f\"%data.get_fraction_positive( ) )\n",
        "print(\"ppCterm frag fn %4.2f\"%data.get_fraction_negative() )\n",
        "\n",
        "print(msssp)\n",
        "data = SequenceParameters(msssp)\n",
        "print(\"msssp fp %4.2f\"%data.get_fraction_positive( ) )\n",
        "print(\"msssp fn %4.2f\"%data.get_fraction_negative() )\n",
        "\n",
        "data = SequenceParameters(msdsp)\n",
        "print(\"msdsp fp %4.2f\"%data.get_fraction_positive( ) )\n",
        "print(\"msdsp fn %4.2f\"%data.get_fraction_negative() )\n"
      ]
    },
    {
      "cell_type": "code",
      "execution_count": null,
      "metadata": {
        "colab": {
          "base_uri": "https://localhost:8080/"
        },
        "id": "9jpQJu7fqQt5",
        "outputId": "b430f509-064a-4ec4-bd28-a66a92fe660f"
      },
      "outputs": [
        {
          "name": "stdout",
          "output_type": "stream",
          "text": [
            "mybpc fp 0.23\n",
            "mybpc fn 0.14\n",
            "Short C-term fp 0.13\n",
            "Short C-term fn 0.13\n",
            "+p Short C-term fp 0.13\n",
            "+p Short C-term fn 0.15\n",
            "AQPMSSSPKETTF\n",
            "MSSSP 0.07 MSSSP 0.14\n",
            "MSSSP 0.07 MSSSP 0.14\n"
          ]
        }
      ],
      "source": [
        "# mybpc  comparison\n",
        "mybpcSeq = \"RSAFRRTSLAGAGRRTSDSHED\" # for frame of reference\n",
        "data = SequenceParameters(mybpcSeq)\n",
        "print(\"mybpc fp %4.2f\"%data.get_fraction_positive( ) )\n",
        "print(\"mybpc fn %4.2f\"%data.get_fraction_negative() )\n",
        "\n",
        "# C-term\n",
        "data = SequenceParameters(short)\n",
        "print(\"Short C-term fp %4.2f\"%data.get_fraction_positive( ) )\n",
        "print(\"Short C-term fn %4.2f\"%data.get_fraction_negative() )\n",
        "data = SequenceParameters(dshort)\n",
        "print(\"+p Short C-term fp %4.2f\"%data.get_fraction_positive( ) )\n",
        "print(\"+p Short C-term fn %4.2f\"%data.get_fraction_negative() )\n",
        "\n",
        "# GSK3B seq\n",
        "data = SequenceParameters(msssp)\n",
        "data = SequenceParameters(msdsp)\n",
        "\n",
        "print(msssp)\n",
        "fp = \"MSSSP %4.2f\"%data.get_fraction_positive()\n",
        "fn = \"MSSSP %4.2f\"%data.get_fraction_negative()\n",
        "# similar story, though mybpc is even more positively charged\n",
        "print(fp,fn) # 0.07692307692307693 0.076923076923076 msssp\n",
        "print(fp,fn) # 0.07142857142857142 0.14285714285714285 msdsp"
      ]
    },
    {
      "cell_type": "markdown",
      "metadata": {
        "id": "FMTOic_7tU2m"
      },
      "source": [
        "entire protein\n"
      ]
    },
    {
      "cell_type": "code",
      "execution_count": null,
      "metadata": {
        "colab": {
          "base_uri": "https://localhost:8080/"
        },
        "id": "bzY1LbqWq_vF",
        "outputId": "0f62b78e-89c6-4329-daf6-ff7787458ce9"
      },
      "outputs": [
        {
          "name": "stdout",
          "output_type": "stream",
          "text": [
            "0.14267352185089974 0.11439588688946016\n"
          ]
        }
      ],
      "source": [
        "data = SequenceParameters(fastaAblim1)\n",
        "fp = data.get_fraction_positive()\n",
        "fn = data.get_fraction_negative()\n",
        "\n",
        "print(fp,fn)"
      ]
    },
    {
      "cell_type": "markdown",
      "metadata": {
        "id": "cxoT_asJtY2Q"
      },
      "source": [
        "N-terminus/C-terminus"
      ]
    },
    {
      "cell_type": "code",
      "execution_count": null,
      "metadata": {
        "colab": {
          "base_uri": "https://localhost:8080/"
        },
        "id": "buTY8LAbta5T",
        "outputId": "51dda12f-47e4-42a8-c830-839ce7f945e1"
      },
      "outputs": [
        {
          "name": "stdout",
          "output_type": "stream",
          "text": [
            "0.17525773195876287 0.08247422680412371\n",
            "0.14814814814814814 0.13333333333333333\n",
            "0.14814814814814814 0.1382716049382716\n"
          ]
        }
      ],
      "source": [
        "# n term\n",
        "data = SequenceParameters(fastaAblim1Nterm)\n",
        "fp = data.get_fraction_positive()\n",
        "fn = data.get_fraction_negative()\n",
        "\n",
        "print(fp,fn)\n",
        "\n",
        "\n",
        "# c term\n",
        "data = SequenceParameters(fastaAblim1Cterm)\n",
        "fp = data.get_fraction_positive()\n",
        "fn = data.get_fraction_negative()\n",
        "\n",
        "print(fp,fn)\n",
        "\n",
        "\n",
        "# c term + phospho\n",
        "# just a hack since we are adding two charges\n",
        "pfastaAblim1Cterm = re.sub(\"S\", \"D\", fastaAblim1Cterm, count=2)\n",
        "data = SequenceParameters(pfastaAblim1Cterm)\n",
        "fp = data.get_fraction_positive()\n",
        "fn = data.get_fraction_negative()\n",
        "\n",
        "print(fp,fn)\n",
        "\n"
      ]
    },
    {
      "cell_type": "markdown",
      "metadata": {
        "id": "62mLOy0E-EwR"
      },
      "source": [
        "### Hofman applications of flory ideas\n",
        "Ideas from Hofman paper (supplement) for determining attractive/repulsive corrections to scaling coefficient $\\nu$\n",
        "\n",
        "Populating values for Flory model\n",
        "\n",
        "$\n",
        "\\begin{align}\n",
        "R_g & = \\sqrt{ \\frac{2\\xi b}{\\left(2\\nu+1\\right)\\left(2\\nu+2\\right)}} N^\\nu \\\\ % S11 hofmann\n",
        "\\nu & = \\nu_0 + \\nu^*\\\\\n",
        "\\nu^* &= \\frac{4\\pi\\lambda_B\\left( f-g \\right)^2}{\\kappa^2} - \\frac{\\pi\\lambda_B^2 (f+g)^2}{\\kappa}\n",
        "\\end{align}\n",
        "$\n",
        "    Per Hofmann supp, $\\nu^*>0$ pertains to net repulsion (unfolding) while $\\nu<0$ corresponding to net attraction (folding).\n",
        "\n",
        "* $b=0.38 \\mbox{ [nm] bond length}$\n",
        "* $l_p=0.4 \\mbox{ [nm] pers. len, hofman}$\n",
        "* $\\lambda_B = 0.7 \\mbox{ [nm] Bjerrum length for er=80, check w my notes}$\n",
        "* $\\kappa = 1.0 \\mbox{ [nm] Inv. Debye}$\n",
        "* $f_- = 0.105 \\mbox{ frac -,w/o phospho}$\n",
        "* $f_+ = 0.134 \\mbox{ frac +,w/o phospho}$\n",
        "* $v_0 = 0.6 \\mbox{ excluded volume chain, ref. in Hofmann}$\n",
        "\n",
        "\n"
      ]
    },
    {
      "cell_type": "code",
      "execution_count": null,
      "metadata": {
        "id": "XaMZltW0te2B"
      },
      "outputs": [],
      "source": [
        "#  net repulsive if > 0, net attractive if < 0\n",
        "def vexcess(fp,fm):\n",
        "    lB=k=1.\n",
        "\n",
        "    t1 = (4*np.pi*lB)*(fp-fm)**2\n",
        "    t1/=k**2\n",
        "    #print(t1)\n",
        "    t2 = (np.pi*lB*lB)*(fp+fm)**2\n",
        "    t2/=k\n",
        "    #print(t2)\n",
        "    vs = t1-t2\n",
        "    #print(vs)\n",
        "    return vs"
      ]
    },
    {
      "cell_type": "code",
      "execution_count": null,
      "metadata": {
        "colab": {
          "base_uri": "https://localhost:8080/"
        },
        "id": "HYFY_9jH-SP0",
        "outputId": "8e1140ef-20b1-4f05-a374-a9d7c0d8c50c"
      },
      "outputs": [
        {
          "name": "stdout",
          "output_type": "stream",
          "text": [
            "9.42477796076938\n",
            "-0.2452358641318729\n",
            "-0.26571904823327824\n"
          ]
        }
      ],
      "source": [
        "# values from the fp/fn calculations earlier\n",
        "print( vexcess(1,0) )\n",
        "print( vexcess(0.148,0.133 ) )\n",
        "print( vexcess(0.148,0.143 ) )\n"
      ]
    },
    {
      "cell_type": "code",
      "execution_count": null,
      "metadata": {
        "colab": {
          "base_uri": "https://localhost:8080/"
        },
        "id": "Q3dUp3G7-tJ5",
        "outputId": "1acf1a4f-7078-46b5-abef-8b3fb0759559"
      },
      "outputs": [
        {
          "name": "stdout",
          "output_type": "stream",
          "text": [
            "3.5991531473172373\n"
          ]
        }
      ],
      "source": [
        "# Validated against Fig 2 in Hofmann et al\n",
        "b = 0.38 # nm [from Hofmann]\n",
        "lp = 0.4 # nm\n",
        "def rg(n,nu):\n",
        "    num = 2*lp * b\n",
        "    denom = (2*nu+1)*(2*nu+2)\n",
        "    scale = np.sqrt(num/denom)*(n**nu)\n",
        "    return scale\n",
        "\n",
        "\n",
        "\n",
        "\n",
        "#rg(1000,0.58)\n",
        "# Protein IN (left bottom panel) appears to have Nbond=60, and Rg of about 2. and a scaling\n",
        "# exponent of 0.58. The expression below reproduces this number\n",
        "rg(60,0.58)\n",
        "print( rg(133,0.58) )\n",
        "#print( nFrag )\n",
        "#133**0.58"
      ]
    },
    {
      "cell_type": "code",
      "execution_count": null,
      "metadata": {
        "colab": {
          "base_uri": "https://localhost:8080/",
          "height": 471
        },
        "id": "aYoYaYnz-1Qs",
        "outputId": "0f87b464-99da-4f78-e347-ae49e4275625"
      },
      "outputs": [
        {
          "name": "stdout",
          "output_type": "stream",
          "text": [
            "5.038590271792488\n"
          ]
        },
        {
          "data": {
            "image/png": "[encoded data removed]",
            "text/plain": [
              "<Figure size 432x288 with 1 Axes>"
            ]
          },
          "metadata": {
            "needs_background": "light"
          },
          "output_type": "display_data"
        }
      ],
      "source": [
        "nval =  10**np.linspace(1,3,20)\n",
        "nval = np.array(nval,dtype=int)\n",
        "\n",
        "nu = 0.58 # unfolded\n",
        "plt.plot(nval, rg(nval,nu),label='unfolded [Hofmann]')\n",
        "nu = 0.34 # folded\n",
        "plt.plot(nval, rg(nval,nu),label='folded [Hofmann]')\n",
        "\n",
        "\n",
        "plt.ylabel('Rg [nm]')\n",
        "plt.yscale('log')\n",
        "plt.xlabel('nRes')\n",
        "plt.xscale('log')\n",
        "plt.legend(loc=0)\n",
        "\n",
        "# reference plt.scatter([1000],[rg(1000,nu)],edgecolor='orange',facecolor='white')\n",
        "# according to 6A, proT53 has a net charge of 0.3, vs 0.4 for proTa, IN is about 0.15\n",
        "# i'm guess netcharge has a maximum of 1.0 from (f^+ - f^-)\n",
        "# from 2 it looks ilke IN has v=0.58 and proTA = 0.67\n",
        "# i can't really figure out what numbers were used for the net charge listed in the hofmann paper, though they did seem to include\n",
        "# the net charges of the fluorophores\n",
        "\n",
        "\n",
        "nResCterm = 300\n",
        "# ratio of pos/neg. aa in ablim are pretty even (+40/300 vs -31/300), but they're slightly positive overall (9/300). Let's assume this gives us\n",
        "# a nu=0.61. promotyhsin a had about 5 more positive aa over 50ish residues and had nu=0.67 Adding 3 phosphates (-2x3) will almost balance positive w negative, so we'll use nu=0.58\n",
        "\n",
        "# The region spanning LIM4 (343) and VHP (710) is 366 residues (to 709)\n",
        "# The short fragment we simulated was 130\n",
        "nFrag = 130\n",
        "nFull=709 - 343\n",
        "\n",
        "# hofmann\n",
        "nProTa = 54+9 # for the FRET linker\n",
        "nu=0.65 # 70 #\n",
        "val = rg(nProTa,nu)\n",
        "plt.scatter([nProTa],[val], label=\"ProTa [Hofmann] \", # Rg=%3.1f [nm]\"%val,\n",
        "            facecolor='blue',edgecolor='blue')\n",
        "\n",
        "\n",
        "# unphospho\n",
        "# based on figure 9\n",
        "simVal = 5.0 # update\n",
        "plt.scatter([nFrag],[simVal], label=\"Sim.  Frag Rg=%3.1f [nm]\"%simVal,facecolor='k',edgecolor='k')\n",
        "# Pred\n",
        "nu=0.665 # estimated by where ProtTa fell\n",
        "val = rg(nFrag,nu)\n",
        "print(val)\n",
        "plt.scatter([nFrag],[val], label=\"Pred. Frag Rg=%3.1f [nm]\"%val,marker='x',facecolor='gray')\n",
        "\n",
        "# phospho\n",
        "# based on figure 9\n",
        "simVal = 4.6 # update\n",
        "plt.scatter([nFrag],[simVal], label=\"Sim.  pFrag Rg=%3.1f [nm]\"%simVal,facecolor='r',edgecolor='r')\n",
        "# corr\n",
        "nup=0.645; diff = nu - nup\n",
        "val = rg(nFrag,nup)\n",
        "plt.scatter([nFrag],[val], label=\"Pred. pFrag Rg=%3.1f [nm]\"%val,marker='x',facecolor='gray')\n",
        "\n",
        "# full\n",
        "# unphospho\n",
        "nu=0.65 # using ProTa value\n",
        "val = rg(nFull,nu)\n",
        "plt.scatter([nFull],[val], label=\"Pred. Full Rg=%3.1f [nm]\"%val,facecolor='w',edgecolor='k')\n",
        "\n",
        "# phospho\n",
        "nup = nu - diff\n",
        "val = rg(nFull,nup)\n",
        "plt.scatter([nFull],[val], label=\"Pred. pFull Rg=%3.1f [nm]\"%val,facecolor='w',edgecolor='r')\n",
        "\n",
        "plt.legend(loc=4,ncol=2)\n",
        "plt.gcf().savefig('rg.png')\n"
      ]
    },
    {
      "cell_type": "markdown",
      "metadata": {
        "id": "jGDGAVkk_SYE"
      },
      "source": [
        "### Alston paper using Flory scaling\n",
        "https://pubs.acs.org/doi/full/10.1021/acs.jpcb.3c01619\n",
        "\n",
        "$D = A_0 N^\\nu$\n",
        "\n",
        "Figure below was validated against their Fig 1d by fitting their data to get an estimate for $A_0$\n",
        "\n"
      ]
    },
    {
      "cell_type": "markdown",
      "metadata": {
        "id": "kISWgH9N1tl5"
      },
      "source": [
        "Did a quick estimate of $a_0$ based on the expression\n",
        "$\\langle r_e \\rangle = a_0 N^\\nu$ for the end-to-end distance dsimulation data\n",
        "\n",
        "\n",
        "Data (re**2) seems to match that presented in Fig 10\n",
        "\n",
        "To fit $r_i = a N^{\\nu_i}$ with an intercept of 0, we can do\n",
        "\\begin{align}\n",
        "y &= m x \\\\\n",
        "x\\cdot y &= x\\cdot(m x)\\\\\n",
        "&= m x\\cdot x\\\\\n",
        "⇒ \\sum{xy} &=  m\\sum{xx}\\\\\n",
        "⇒m &= \\frac{\\sum{xy}}{\\sum{xx}}\n",
        "\\end{align}"
      ]
    },
    {
      "cell_type": "code",
      "execution_count": null,
      "metadata": {
        "id": "BzPoG9NU_iKj"
      },
      "outputs": [],
      "source": []
    },
    {
      "cell_type": "code",
      "execution_count": null,
      "metadata": {
        "colab": {
          "base_uri": "https://localhost:8080/",
          "height": 514
        },
        "id": "RPSrPAYC_hIE",
        "outputId": "368bfb98-0029-4b8d-e584-fcd789716673"
      },
      "outputs": [
        {
          "name": "stdout",
          "output_type": "stream",
          "text": [
            "6.0034692133618845 [ 7.07106781 10.        ] [42.5 60. ]\n",
            "3.0071234017636335\n"
          ]
        },
        {
          "data": {
            "text/plain": [
              "<matplotlib.legend.Legend at 0x7fa4a1acaaf0>"
            ]
          },
          "execution_count": 11,
          "metadata": {},
          "output_type": "execute_result"
        },
        {
          "data": {
            "image/png": "[encoded data removed]",
            "text/plain": [
              "<Figure size 432x288 with 1 Axes>"
            ]
          },
          "metadata": {
            "needs_background": "light"
          },
          "output_type": "display_data"
        }
      ],
      "source": [
        "Ns = (np.arange(99)+1)*10\n",
        "nua = 0.5 # from Alston paper\n",
        "\n",
        "# fig 1d\n",
        "Na = np.array([50,100])\n",
        "xa = Na**nua\n",
        "ya = np.array([42.5,60])\n",
        "a0a = np.dot(xa,ya)/np.dot(xa,xa)\n",
        "print(a0a,xa,ya)\n",
        "\n",
        "\n",
        "# from Fig 1f Alston\n",
        "A0 = 60./(100.**nu)\n",
        "print(A0)\n",
        "\n",
        "#\n",
        "sqrt_re2 = a0a * (Ns**nua)\n",
        "\n",
        "\n",
        "plt.plot(Ns,sqrt_re2 )\n",
        "plt.xlabel('res')\n",
        "plt.ylabel('$\\sqrt{<r_e^2>}$')\n",
        "plt.xscale('log')\n",
        "plt.yscale('log')\n",
        "plt.ylim([20,100])\n",
        "\n",
        "plt.scatter(Na,ya,label='Alston')\n",
        "plt.legend(loc=0)"
      ]
    },
    {
      "cell_type": "markdown",
      "metadata": {
        "id": "_-pd8jsEgU-2"
      },
      "source": [
        "## mock data\n",
        "\n"
      ]
    },
    {
      "cell_type": "code",
      "source": [
        "#draw random numbers from histogram\n",
        "n = 1000\n",
        "r = np.random.randn(n)\n",
        "#$plt.hist(r)\n",
        "\n",
        "\n",
        "\n",
        "def func(v):\n",
        "    return 10 + np.sqrt(v)\n",
        "\n",
        "## RV 1\n",
        "rv = np.zeros([2,n])\n",
        "rv[0,:] = 7\n",
        "rv[1,:] = r+5\n",
        "rv1 = np.copy( rv )\n",
        "\n",
        "\n",
        "ev  = np.zeros_like(rv)\n",
        "ev[0,:] = 17\n",
        "ev[1,:] = func( rv[1,:] )\n",
        "\n",
        "rv1 = np.copy( rv )\n",
        "ev1 = np.copy( ev )\n",
        "\n",
        "\n",
        "## RV 2\n",
        "rv = np.zeros([2,n])\n",
        "rv[0,:] = 7\n",
        "rv[1,:] = r+7\n",
        "\n",
        "ev[0,:] = 17\n",
        "ev[1,:] = func( rv[1,:] )\n",
        "\n",
        "rv2 = np.copy( rv )\n",
        "ev2 = np.copy( ev )"
      ],
      "metadata": {
        "id": "wSXMfhnqqk3p"
      },
      "execution_count": 4,
      "outputs": []
    },
    {
      "cell_type": "markdown",
      "source": [
        "## Real data\n",
        "Need to upload data"
      ],
      "metadata": {
        "id": "C3z3b3xfiWNF"
      }
    },
    {
      "cell_type": "code",
      "source": [
        "data = dict()\n",
        "data['wt'] = np.loadtxt('built_wt_Re_Cterm.csv')\n",
        "data['d'] = np.loadtxt('built_s450d_s452d_R_e_Cterm.csv')\n",
        "data['p'] = np.loadtxt('built_s450pS_s452pS_R_e_Cterm.csv')\n",
        "\n",
        "\n",
        "for key in data.keys():\n",
        "    sorted_data = np.sort(data[key])\n",
        "    # Calculate the 5th percentile\n",
        "    p5 = np.percentile(sorted_data, 5)\n",
        "\n",
        "    # Calculate the 95th percentile\n",
        "    p95 = np.percentile(sorted_data, 95)\n",
        "    plt.hist(data[key],label=key)\n",
        "\n",
        "    # report\n",
        "    print(f\"{key} mean=%f (%f,%f)\"%\n",
        "          (np.mean(data[key]),p5,p95)\n",
        "    )\n",
        "\n",
        "plt.legend(loc=0)"
      ],
      "metadata": {
        "id": "7DtaAj-NiVWs",
        "outputId": "4c0603d6-3b87-4a7d-82ca-ca7e65a21e99",
        "colab": {
          "base_uri": "https://localhost:8080/",
          "height": 499
        }
      },
      "execution_count": 20,
      "outputs": [
        {
          "output_type": "stream",
          "name": "stdout",
          "text": [
            "wt mean=91.139569 (11.937644,165.791268)\n",
            "d mean=79.513446 (12.502061,129.540509)\n",
            "p mean=87.068579 (14.093191,157.332488)\n"
          ]
        },
        {
          "output_type": "execute_result",
          "data": {
            "text/plain": [
              "<matplotlib.legend.Legend at 0x7892f78d5a10>"
            ]
          },
          "metadata": {},
          "execution_count": 20
        },
        {
          "output_type": "display_data",
          "data": {
            "text/plain": [
              "<Figure size 640x480 with 1 Axes>"
            ],
            "image/png": "[encoded data removed]"
          },
          "metadata": {}
        }
      ]
    },
    {
      "cell_type": "code",
      "source": [
        "def sample_from_histogram(hist_counts, bin_edges, n):\n",
        "    \"\"\"\n",
        "    Draws n random samples from a distribution defined by a histogram.\n",
        "\n",
        "    Args:\n",
        "        hist_counts (array-like): The counts (frequencies) in each bin.\n",
        "                                   Must have length M.\n",
        "        bin_edges (array-like): The edges of the bins. Must have length M+1.\n",
        "        n (int): The number of samples to draw.\n",
        "\n",
        "    Returns:\n",
        "        numpy.ndarray: An array of n sampled points.\n",
        "    \"\"\"\n",
        "    # --- Input Validation ---\n",
        "    if len(hist_counts) != len(bin_edges) - 1:\n",
        "        raise ValueError(\"Length of hist_counts must be one less than length of bin_edges.\")\n",
        "    if np.any(np.array(hist_counts) < 0):\n",
        "         raise ValueError(\"Histogram counts cannot be negative.\")\n",
        "    if n <= 0:\n",
        "        return np.array([]) # Return empty if n is zero or negative\n",
        "\n",
        "    # --- Calculate Probabilities ---\n",
        "    # Ensure counts are float for division\n",
        "    hist_counts = np.asarray(hist_counts, dtype=float)\n",
        "    total_counts = hist_counts.sum()\n",
        "\n",
        "    if total_counts == 0:\n",
        "         # Handle case where histogram is empty or all counts are zero\n",
        "         # Option 1: Return empty array\n",
        "         # return np.array([])\n",
        "         # Option 2: Raise error\n",
        "         # raise ValueError(\"Total histogram counts are zero, cannot sample.\")\n",
        "         # Option 3: Return NaNs or default values (less ideal)\n",
        "         # return np.full(n, np.nan)\n",
        "         # For this example, let's raise an error if sampling is impossible.\n",
        "         raise ValueError(\"Cannot sample from a histogram with zero total counts.\")\n",
        "\n",
        "\n",
        "    bin_probabilities = hist_counts / total_counts\n",
        "\n",
        "    # --- Choose Bin Indices ---\n",
        "    # Create an array of bin indices [0, 1, ..., M-1]\n",
        "    bin_indices = np.arange(len(hist_counts))\n",
        "    # Choose n bin indices based on their probabilities\n",
        "    chosen_bin_indices = np.random.choice(bin_indices, size=n, p=bin_probabilities)\n",
        "\n",
        "    # --- Sample Within Chosen Bins ---\n",
        "    # Get the left and right edges for each chosen bin index\n",
        "    # Ensure bin_edges is a numpy array for fancy indexing\n",
        "    bin_edges = np.asarray(bin_edges)\n",
        "    left_edges = bin_edges[chosen_bin_indices]\n",
        "    right_edges = bin_edges[chosen_bin_indices + 1]\n",
        "\n",
        "    # Generate n random numbers uniformly between 0 and 1\n",
        "    uniform_randoms = np.random.rand(n)\n",
        "\n",
        "    # Scale and shift these random numbers to fit within the chosen bins\n",
        "    # Sample = LeftEdge + RandomFraction * BinWidth\n",
        "    sampled_points = left_edges + uniform_randoms * (right_edges - left_edges)\n",
        "\n",
        "    return sampled_points\n",
        "\n",
        "# --- Example Usage ---\n",
        "\n",
        "# 1. Define or Generate a Histogram\n",
        "# Example: Create some data and get its histogram\n",
        "#original_data = np.random.randn(50)\n",
        "sampled = dict()\n",
        "for key in data.keys():\n",
        "  original_data = data[key]\n",
        "  # Get histogram data using numpy\n",
        "  hist_counts, bin_edges = np.histogram(original_data, bins=20, density=False)\n",
        "  # Note: Using density=False gives actual counts, which is what our function expects.\n",
        "  # If you used density=True, you'd need to convert density back to probability\n",
        "  # by multiplying density by bin width.\n",
        "\n",
        "\n",
        "  #print(\"Original Histogram Counts:\", hist_counts)\n",
        "  #print(\"Original Bin Edges:\", bin_edges)\n",
        "  #print(\"-\" * 20)\n",
        "\n",
        "  # 2. Sample points based on the histogram\n",
        "  #num_samples_to_draw = 10000\n",
        "\n",
        "  sampled_data = sample_from_histogram(hist_counts, bin_edges, num_samples_to_draw)\n",
        "  sampled[key] = sampled_data\n",
        "  #\n",
        "  print(f\"Drew {len(sampled_data)} samples.\")\n",
        "  # print(\"First few samples:\", sampled_data[:10]) # Optional: view samples\n",
        "  print(\"-\" * 20)\n",
        "\n",
        "\n",
        "#### just plot for one\n",
        "# 3. Visualize (Optional but Recommended)\n",
        "plt.figure(figsize=(12, 6))\n",
        "\n",
        "# Plot the original histogram (normalized)\n",
        "plt.subplot(1, 2, 1)\n",
        "plt.hist(original_data, bins=bin_edges, density=True, alpha=0.7, label='Original Data (Normalized Hist)')\n",
        "plt.title(\"Original Data Distribution\")\n",
        "plt.xlabel(\"Value\")\n",
        "plt.ylabel(\"Density\")\n",
        "plt.legend()\n",
        "plt.grid(True, alpha=0.5)\n",
        "\n",
        "\n",
        "# Plot the histogram of the sampled points (normalized)\n",
        "plt.subplot(1, 2, 2)\n",
        "# Use the same bin edges for direct comparison\n",
        "plt.hist(sampled_data, bins=bin_edges, density=True, alpha=0.7, color='orange', label=f'Sampled Data (n={num_samples_to_draw})')\n",
        "plt.title(\"Sampled Data Distribution\")\n",
        "plt.xlabel(\"Value\")\n",
        "plt.ylabel(\"Density\")\n",
        "plt.legend()"
      ],
      "metadata": {
        "id": "p6k3ql7Dksny",
        "outputId": "38509e36-9396-4159-f2aa-2c5b6ece9d5d",
        "colab": {
          "base_uri": "https://localhost:8080/",
          "height": 685
        }
      },
      "execution_count": 21,
      "outputs": [
        {
          "output_type": "stream",
          "name": "stdout",
          "text": [
            "Drew 10000 samples.\n",
            "--------------------\n",
            "Drew 10000 samples.\n",
            "--------------------\n",
            "Drew 10000 samples.\n",
            "--------------------\n"
          ]
        },
        {
          "output_type": "execute_result",
          "data": {
            "text/plain": [
              "<matplotlib.legend.Legend at 0x7892f787f690>"
            ]
          },
          "metadata": {},
          "execution_count": 21
        },
        {
          "output_type": "display_data",
          "data": {
            "text/plain": [
              "<Figure size 1200x600 with 2 Axes>"
            ],
            "image/png": "[encoded data removed]"
          },
          "metadata": {}
        }
      ]
    },
    {
      "cell_type": "code",
      "source": [
        "sampled['d']"
      ],
      "metadata": {
        "id": "Z4GJV-dtnFvn",
        "outputId": "39b7cc62-f4a1-4741-9834-1c83c713b106",
        "colab": {
          "base_uri": "https://localhost:8080/"
        }
      },
      "execution_count": 24,
      "outputs": [
        {
          "output_type": "execute_result",
          "data": {
            "text/plain": [
              "array([  8.38553635, 122.04614612, 128.97656027, ...,  89.66324704,\n",
              "        13.95150587,  16.30956382])"
            ]
          },
          "metadata": {},
          "execution_count": 24
        }
      ]
    },
    {
      "cell_type": "code",
      "source": [
        "### sim 1 (using rv1, ev1) - Red\n",
        "n = 130\n",
        "#key = 'd'\n",
        "colors = ['gray','blue','red']\n",
        "w=0\n",
        "for key in sampled.keys():\n",
        "\n",
        "  data = sampled['d']\n",
        "  rv1 = np.zeros([2, np.shape(data)[0]])\n",
        "  v = n + w*0.5\n",
        "  rv1[0,:] = v\n",
        "  rv1[1,:] = data\n",
        "  col = colors[w]\n",
        "  w+=1\n",
        "\n",
        "\n",
        "  #plt.boxplot(data, positions=[130],whis=[5, 95], showfliers=False)\n",
        "\n",
        "  # Plot mean of the second dimension for the first data point\n",
        "\n",
        "  #plt.scatter([rv1[0,0]],[np.mean( rv1[1,:] )],facecolor='red',s=20, label='Mean rv1[1,:]')\n",
        "  # Plot mean of the second dimension for the first data point\n",
        "  #plt.scatter([rv1[0,0]],[np.mean( rv1[1,:] )],facecolor='red',s=20, label='Mean rv1[1,:]')\n",
        "  # Plot all data points with transparency\n",
        "  plt.scatter(rv1[0,:],rv1[1,:],facecolor=col,s=10,alpha=0.005, label='rv1 data')\n",
        "  sorted_data = np.sort(sampled[key])\n",
        "  # Calculate the 5th percentile\n",
        "  p5 = np.percentile(sorted_data, 5)\n",
        "  # Calculate the 50th percentile\n",
        "  p50 = np.percentile(sorted_data, 50)\n",
        "  # Calculate the 95th percentile\n",
        "  p95 = np.percentile(sorted_data, 95)\n",
        "\n",
        "  plt.scatter([v,v,v],[p5,p50,p95],facecolor='black',s=10)\n",
        "\n",
        "  ## extrap'd 1 (using ev1) - Red\n",
        "\n",
        "\n",
        "  ev1 = np.zeros_like( rv1 )\n",
        "  ev1[0,:] = 200+w\n",
        "  ev1[1,:] = 100 + rv1[1,:]\n",
        "  # Plot all extrapolated data points with transparency\n",
        "  plt.scatter(ev1[0,:],ev1[1,:],facecolor=col,s=10,alpha=0.005, label='ev1 data')\n",
        "  # Plot mean of the second dimension for the first extrapolated data point (white center)\n",
        "  plt.scatter([ev1[0,0]],[np.mean( ev1[1,:] )],facecolor='white',edgecolor=col,s=20, label='Mean ev1[1,:]')\n",
        "\n",
        "plt.xlim([120,140])"
      ],
      "metadata": {
        "id": "MualfkCPmJV4",
        "outputId": "9cf98ce6-d7ad-4ee5-cd15-8272345709f7",
        "colab": {
          "base_uri": "https://localhost:8080/",
          "height": 447
        }
      },
      "execution_count": 45,
      "outputs": [
        {
          "output_type": "execute_result",
          "data": {
            "text/plain": [
              "(120.0, 140.0)"
            ]
          },
          "metadata": {},
          "execution_count": 45
        },
        {
          "output_type": "display_data",
          "data": {
            "text/plain": [
              "<Figure size 640x480 with 1 Axes>"
            ],
            "image/png": "[encoded data removed]"
          },
          "metadata": {}
        }
      ]
    },
    {
      "cell_type": "code",
      "execution_count": 5,
      "metadata": {
        "id": "3hMeJWZJqfQd",
        "outputId": "a6ec464f-fd16-4a8c-999a-dac8366a8718",
        "colab": {
          "base_uri": "https://localhost:8080/",
          "height": 472
        }
      },
      "outputs": [
        {
          "output_type": "display_data",
          "data": {
            "text/plain": [
              "<Figure size 640x480 with 1 Axes>"
            ],
            "image/png": "[encoded data removed]"
          },
          "metadata": {}
        }
      ],
      "source": [
        "\n",
        "## extrap'd 1 (using ev1) - Red\n",
        "# Plot all extrapolated data points with transparency\n",
        "\n",
        "plt.scatter(ev1[0,:],ev1[1,:],facecolor='red',s=10,alpha=0.005, label='ev1 data')\n",
        "# Plot mean of the second dimension for the first extrapolated data point (white center)\n",
        "plt.scatter([ev1[0,0]],[np.mean( ev1[1,:] )],facecolor='white',edgecolor='red',s=20, label='Mean ev1[1,:]')\n",
        "\n",
        "\n",
        "## RV 2 (using rv2, ev2) - Blue\n",
        "# Plot mean of the second dimension for the first data point\n",
        "plt.scatter([rv2[0,0]],[np.mean( rv2[1,:] )],facecolor='blue',s=20, label='Mean rv2[1,:]')\n",
        "# Plot all data points with transparency\n",
        "plt.scatter(rv2[0,:],rv2[1,:],facecolor='blue',s=10,alpha=0.005, label='rv2 data')\n",
        "\n",
        "## extrap'd 2 (using ev2) - Blue\n",
        "# Plot all extrapolated data points with transparency\n",
        "plt.scatter(ev2[0,:],ev2[1,:],facecolor='blue',s=10,alpha=0.005, label='ev2 data')\n",
        "# Plot mean of the second dimension for the first extrapolated data point (white center)\n",
        "plt.scatter([ev2[0,0]],[np.mean( ev2[1,:] )],facecolor='white',edgecolor='blue',s=20, label='Mean ev2[1,:]')\n",
        "\n",
        "# Assuming plt refers to an Axes object, use set_xlim instead of set_xrange\n",
        "# If plt is the pyplot module itself, use plt.xlim\n",
        "# plt.xlim([0,20]) # Use this if plt is pyplot\n",
        "# Or if plt is an Axes object (e.g., from fig, ax = plt.subplots()):\n",
        "# ax.set_xlim([0, 20])\n",
        "\n",
        "# Using plt.xlim assuming plt is the module 'matplotlib.pyplot'\n",
        "plt.xlim([0,20])\n",
        "plt.xlabel(\"X-axis\") # Added label for clarity\n",
        "plt.ylabel(\"Y-axis\") # Added label for clarity\n",
        "plt.title(\"Scatter Plot Comparison\") # Added title\n",
        "plt.legend() # Added legend to identify plots\n",
        "plt.grid(True) # Added grid for better readability\n",
        "plt.show() # Display the plot"
      ]
    },
    {
      "cell_type": "code",
      "execution_count": null,
      "metadata": {
        "colab": {
          "base_uri": "https://localhost:8080/",
          "height": 471
        },
        "id": "eRmixDHG1Pc7",
        "outputId": "a584d26a-a9d6-4917-86fa-246559a3b5b4"
      },
      "outputs": [
        {
          "name": "stdout",
          "output_type": "stream",
          "text": [
            "6.707816081694713 [21.36345634 23.54416603] [130 170]\n"
          ]
        },
        {
          "data": {
            "image/png": "[encoded data removed]",
            "text/plain": [
              "<Figure size 432x288 with 1 Axes>"
            ]
          },
          "metadata": {
            "needs_background": "light"
          },
          "output_type": "display_data"
        }
      ],
      "source": [
        "import numpy as np\n",
        "import matplotlib.pylab as plt\n",
        "\n",
        "# sim ?????\n",
        "Nsim=130 - 1\n",
        "\n",
        "# re=170, v=0.66, N=130 ---> a=6.84 (how compares to halston?)\n",
        "# re=130, v=0.63, N=130 ---> a=5.76\n",
        "# avg ~ 6.2\n",
        "# re ]\n",
        "rewt = 170\n",
        "rep=130\n",
        "x = np.array([Nsim**nup,Nsim**nu])\n",
        "y = np.array([rep,rewt])\n",
        "a0 = np.dot(x,y)/np.dot(x,x)\n",
        "print(a0,x,y)\n",
        "\n",
        "# Perform linear fit\n",
        "\n",
        "\n",
        "\n",
        "\n",
        "Ns = np.arange(nFull)+1\n",
        "#a0=6.7\n",
        "# WT\n",
        "#nu = 0.66 # WT\n",
        "re_wt = a0*Ns**nu\n",
        "\n",
        "# p\n",
        "#nu = 0.64 # WT\n",
        "re_p = a0*Ns**nup\n",
        "\n",
        "## plot\n",
        "plt.plot(Ns,re_wt,'k-',label='Pred WT')\n",
        "plt.plot(Ns,re_p,'r-',label='Pred +P')\n",
        "\n",
        "\n",
        "\n",
        "#plt.scatter(Na,ya)\n",
        "\n",
        "plt.scatter(Ns[Nsim],rewt,facecolor='k',label='Sim WT frag, <re>=%3d'%rewt)\n",
        "plt.scatter(Ns[Nsim],rep,facecolor='r',label='Sim pfrag, <re>=%3d'%rep)\n",
        "\n",
        "nfull = nFull-1\n",
        "plt.scatter(Ns[nfull],re_wt[nfull],facecolor='w',edgecolor='k',label='Pred WT full, <re>=%3d'%re_wt[nfull])\n",
        "plt.scatter(Ns[nfull],re_p[nfull],facecolor='w',edgecolor='r',label='Pred pfull, <re>=%3d'%re_p[nfull])\n",
        "plt.yscale('log')\n",
        "plt.xscale('log')\n",
        "plt.ylabel(\"<re> [nm?]\")\n",
        "plt.xlabel(\"N\")\n",
        "plt.legend(loc=0)\n",
        "plt.gcf().savefig(\"re_sim.png\",dpi=300)"
      ]
    },
    {
      "cell_type": "markdown",
      "metadata": {
        "id": "w6IW0dZ4_sT9"
      },
      "source": [
        "assuming gaussian chain for p(r)\n",
        "looks qualitatively similar to Fig 1f\n",
        "\n",
        "$P(r) = 4 \\pi r^2\n",
        "\\left( \\frac{3}{2 \\pi \\langle r_e^2 \\rangle} \\right)^{3/2}\n",
        "\\exp\\left( -\\frac{3r^2}{2 \\langle r_e^2 \\rangle}\\right)\n",
        "$\n"
      ]
    },
    {
      "cell_type": "code",
      "execution_count": null,
      "metadata": {
        "id": "1bcLczVAfGEc"
      },
      "outputs": [],
      "source": []
    },
    {
      "cell_type": "code",
      "execution_count": null,
      "metadata": {
        "colab": {
          "base_uri": "https://localhost:8080/",
          "height": 541
        },
        "id": "gzvo_ZNI_tNE",
        "outputId": "85519e1a-a326-47b5-a2b7-b9a1457283c0"
      },
      "outputs": [
        {
          "name": "stdout",
          "output_type": "stream",
          "text": [
            "42.873345710184346\n",
            "73.77186477217029\n",
            "112.47495966267412\n"
          ]
        },
        {
          "data": {
            "text/plain": [
              "Text(0.5, 1.0, 'validation')"
            ]
          },
          "execution_count": 13,
          "metadata": {},
          "output_type": "execute_result"
        },
        {
          "data": {
            "image/png": "[encoded data removed]",
            "text/plain": [
              "<Figure size 432x288 with 1 Axes>"
            ]
          },
          "metadata": {
            "needs_background": "light"
          },
          "output_type": "display_data"
        }
      ],
      "source": [
        "import numpy as np\n",
        "def pr(r,re_sqd):\n",
        "    t1 = 4*np.pi * r**2\n",
        "    t2 = (3/(2*np.pi*re_sqd))**(1.5)\n",
        "    expt = (3*r*r)/(2*re_sqd)\n",
        "    t3 = np.exp(-expt)\n",
        "    return t1*t2*t3\n",
        "\n",
        "\n",
        "\n",
        "rs = np.arange(0,300)\n",
        "\n",
        "Ns = 51\n",
        "sqrt_re2 = a0a * (Ns**nua)\n",
        "print(sqrt_re2)\n",
        "re2 = sqrt_re2**2\n",
        "plt.plot(rs,pr(rs,re2),label=Ns)\n",
        "#plt.scatter(sqrt_re2,pr(sqrt_re2,re2),label=Ns)\n",
        "\n",
        "Ns = 151\n",
        "sqrt_re2 = a0a * (Ns**nua)\n",
        "print(sqrt_re2)\n",
        "re2 = sqrt_re2**2\n",
        "plt.plot(rs,pr(rs,re2),label=Ns)\n",
        "\n",
        "\n",
        "Ns = 351\n",
        "sqrt_re2 = a0a * (Ns**nua)\n",
        "print(sqrt_re2)\n",
        "re2 = sqrt_re2**2\n",
        "plt.plot(rs,pr(rs,re2),label=Ns)\n",
        "plt.ylabel('P(r)')\n",
        "plt.xlabel('Re,end-to-end distance [A]')\n",
        "plt.scatter(sqrt_re2,pr(sqrt_re2,re2),label=f\"re,N={Ns}\")\n",
        "plt.legend(loc=0)\n",
        "plt.title(\"validation\")"
      ]
    },
    {
      "cell_type": "markdown",
      "metadata": {
        "id": "Gt7PKH12_0ln"
      },
      "source": [
        "Application to ABLIM1 numbers\n",
        "* Assuming A0 is unchanged from early  (maybe MD data can help us update this)\n",
        "* Sorenson paper indicates that net charge densities approaching 0.15 gives eff conc 3v=1.75 --> v=0.58 vs maybe 3v=1.6--> 0.53 for densities < 0.02\n",
        "\n",
        "\n",
        "try using shading i used way below"
      ]
    },
    {
      "cell_type": "code",
      "execution_count": null,
      "metadata": {
        "colab": {
          "base_uri": "https://localhost:8080/"
        },
        "id": "6Dt1AJvqncd-",
        "outputId": "6f82b2a1-c555-4786-e691-8894536533cd"
      },
      "outputs": [
        {
          "data": {
            "text/plain": [
              "377"
            ]
          },
          "execution_count": 14,
          "metadata": {},
          "output_type": "execute_result"
        }
      ],
      "source": [
        "750-373"
      ]
    },
    {
      "cell_type": "code",
      "execution_count": null,
      "metadata": {
        "colab": {
          "base_uri": "https://localhost:8080/",
          "height": 466
        },
        "id": "kMWv5O-X_zSk",
        "outputId": "ae156fe4-4758-431d-eabd-53b138756e58"
      },
      "outputs": [
        {
          "name": "stdout",
          "output_type": "stream",
          "text": [
            "this 'full' number discrees with my earlier use of 366\n"
          ]
        },
        {
          "data": {
            "image/png": "[encoded data removed]",
            "text/plain": [
              "<Figure size 432x288 with 1 Axes>"
            ]
          },
          "metadata": {
            "needs_background": "light"
          },
          "output_type": "display_data"
        }
      ],
      "source": [
        "#truncC = 473-343   # from position 343 to 473 that we are running martini w\n",
        "#full = 750-373     # full length\n",
        "\n",
        "print(\"this 'full' number discrees with my earlier use of 366\")\n",
        "rs = np.arange(0,350)\n",
        "#nuUnphospho = 0.58 # for fully unphosphorylated molecule\n",
        "#nuPhospho = 0.53  # changing two phosphos in a long change doesn't alter v significantly\n",
        "\n",
        "# change in phospho might move from say 0.25 to 0.3, or 0.05 change\n",
        "Ns = nFrag\n",
        "sqrt_re2 = A0 * (Ns**nup)\n",
        "#print(sqrt_re2)\n",
        "#re2 = sqrt_re2**2'\n",
        "reTrunc = 170 # before\n",
        "re2 = reTrunc**2\n",
        "plt.plot(rs,pr(rs,re2),'r--',label=f'Truncated fragment re={reTrunc}')\n",
        "\n",
        "\n",
        "\n",
        "#Ns = full\n",
        "#sqrt_re2 = A0 * (Ns**nuPhospho)\n",
        "#print(sqrt_re2)\n",
        "#re2 = sqrt_re2**2\n",
        "repfull = 276 # before\n",
        "re2 = repfull**2\n",
        "plt.plot(rs,pr(rs,re2),'r-',label=f'full fragment re={repfull} (in vivo), +2P')\n",
        "plt.ylabel('P(r)')\n",
        "plt.xlabel('Re,end-to-end distance [A]')\n",
        "\n",
        "#sqrt_re2 = A0 * (Ns**nuUnphospho)\n",
        "#print(sqrt_re2)\n",
        "#re2 = sqrt_re2**2\n",
        "rewtfull = 311 # before\n",
        "re2 = rewtfull**2\n",
        "plt.plot(rs,pr(rs,re2),'k-',label=f'full fragment (in vitro), re={rewtfull}, 0 P')\n",
        "plt.ylabel('P(r)')\n",
        "plt.xlabel('Re,end-to-end distance [A]')\n",
        "\n",
        "\n",
        "b=30.4*10. # 30 nm --> 300 AA for actin/actin separation, dz from Irving 2011\n",
        "plt.scatter(b,pr(b,re2),label='Z-disk actin lattice spacing',s=50,edgecolor='blue',facecolor='white')\n",
        "plt.legend(loc=3)\n",
        "#plt.title('our data for ablim1 [UNORMALIZZED]')\n",
        "plt.gcf().savefig(\"pr_sim.png\",dpi=300)"
      ]
    },
    {
      "cell_type": "code",
      "execution_count": null,
      "metadata": {
        "id": "U7mZI0yqdHNu"
      },
      "outputs": [],
      "source": []
    },
    {
      "cell_type": "markdown",
      "metadata": {
        "id": "EUOP3c-jdIIZ"
      },
      "source": [
        "## Previously"
      ]
    },
    {
      "cell_type": "markdown",
      "metadata": {
        "id": "RWUOZdeQqtVd"
      },
      "source": [
        "## Van valen application of  Worm like chain model\n",
        "(WLC is probabli not the best fit for IDPs or our data)\n",
        "\n",
        "\n",
        "Assuming here that\n",
        "* villin headpiece remains bound to actin\n",
        "* LIMs 2 and 3 are available to bind titin\n",
        "* LIMs 2 and 3 availability are modulated by MSSSP phosphorylation (between LIMs 2 and 3)\n",
        "\n",
        "The WLC chain uses the persistence length, $\\zeta$, which is approximately $b/2$ (I believe b is the width of an aa, roubhly 3.4) to give the mean squared end-to-end distance (\\eqn{eqn:r3}):\n",
        "\n",
        "Usintg the Rend equation\n",
        "\n",
        "\\begin{equation}\n",
        "\\langle R^2 \\rangle = 2 \\zeta L_0 \\left[ 1 - \\frac{\\zeta}{L_0}\\left(1- \\exp(-L_0/\\zeta)\\right)\\right]\n",
        "\\end{equation}\n",
        "where $L_0 = N L_b$ with $L_b$ and $N$ representing the length of an amino acid and the number of amino acids, respectively. \\mnote{verify b and Lb relationshuip}\n",
        "\n"
      ]
    },
    {
      "cell_type": "code",
      "execution_count": null,
      "metadata": {
        "id": "Je0EtFOB-RcE"
      },
      "outputs": [],
      "source": []
    },
    {
      "cell_type": "code",
      "execution_count": null,
      "metadata": {
        "id": "e818Zwsbkrv3"
      },
      "outputs": [],
      "source": [
        "zeta = 0.35 #persistence length [nm]\n",
        "lenPerResi = 0.34 # [nm]\n",
        "#D = 53 *lenPerResi   # Residue between CaMBR C termimus (R414) and AID N-terminus (I467) is 52 a.a.\n",
        "                     # thus the distance should be 3.4 x 53\n",
        "#L = 8 * lenPerResi  # residue number between C-terminal of DH and N terminus of AID (DH is absorbed on CaM's surface)\n",
        "\n",
        "# for the effective concentration\n",
        "def G_DZL(zeta,D,L):\n",
        "    prefac = np.sqrt(3/(4*np.pi*zeta*L))\n",
        "    prefac =prefac*prefac*prefac\n",
        "    expon = -3*D*D/(4*zeta*L)\n",
        "    return prefac * np.exp(expon)\n",
        "\n",
        "# for R**2, see Eqn 5 in the mapid paper\n",
        "def RR_ZL(zeta,L):\n",
        "    L = float(L)\n",
        "    prefac = 2*zeta * L\n",
        "    expon = np.exp(-L/zeta)\n",
        "    expon = (zeta/L) * (1-expon)\n",
        "    expon = 1 - expon\n",
        "    return prefac * expon\n",
        "\n",
        "RR_ZL = np.vectorize( RR_ZL )"
      ]
    },
    {
      "cell_type": "markdown",
      "metadata": {
        "id": "Tt0osC0Sy8ef"
      },
      "source": []
    },
    {
      "cell_type": "code",
      "execution_count": null,
      "metadata": {
        "id": "AjhYMGL1y99T"
      },
      "outputs": [],
      "source": [
        "# prompt: twiny plot example\n",
        "\n",
        "fig, ax1 = plt.subplots()\n",
        "\n",
        "ax1.plot([1, 2, 3], [1, 2, 3], label='plot 1')\n",
        "ax1.set_xlabel('x-axis')\n",
        "ax1.set_ylabel('y-axis 1')\n",
        "\n",
        "ax2 = ax1.twinx()  # Create a twin y-axis\n",
        "ax2.plot([1, 2, 3], [4, 5, 6], color='red', label='plot 2')\n",
        "ax2.set_ylabel('y-axis 2')\n",
        "\n",
        "# Combine legends from both axes\n",
        "lines, labels = ax1.get_legend_handles_labels()\n",
        "lines2, labels2 = ax2.get_legend_handles_labels()\n",
        "ax2.legend(lines + lines2, labels + labels2, loc='upper left')\n",
        "\n",
        "plt.show()\n"
      ]
    },
    {
      "cell_type": "code",
      "execution_count": null,
      "metadata": {
        "colab": {
          "base_uri": "https://localhost:8080/",
          "height": 507
        },
        "id": "UBTqs4lcuXK6",
        "outputId": "824586db-cba5-4bd1-b23e-c26c482cade4"
      },
      "outputs": [
        {
          "data": {
            "text/plain": [
              "Text(0.5, 0, 'Num. aa')"
            ]
          },
          "execution_count": 25,
          "metadata": {},
          "output_type": "execute_result"
        },
        {
          "data": {
            "image/png": "[encoded data removed]",
            "text/plain": [
              "<Figure size 640x480 with 2 Axes>"
            ]
          },
          "metadata": {},
          "output_type": "display_data"
        }
      ],
      "source": [
        "fig,ax = plt.subplots()\n",
        "\n",
        "\n",
        "nRes = np.linspace(1,97)\n",
        "Ls = nRes * lenPerResi # [nm]\n",
        "zeta = 300 # [nm]\n",
        "rr = RR_ZL(zeta,Ls)\n",
        "ax.plot(Ls,rr, label=f\"zeta={zeta} [nm]\")\n",
        "\n",
        "zeta = 10 # [nm]\n",
        "rr = RR_ZL(zeta,Ls)\n",
        "ax.plot(Ls,rr, label=f\"zeta={zeta} [nm]\")\n",
        "ax.set_xlabel(\"L [nm]\")\n",
        "ax.legend()\n",
        "\n",
        "axt = ax.twiny()\n",
        "axt.plot(nRes,rr,lw=0)\n",
        "axt.set_xlabel(\"Num. aa\")"
      ]
    },
    {
      "cell_type": "markdown",
      "metadata": {
        "id": "GixKtDlwuYBA"
      },
      "source": [
        "These all need to be double checked relative to the original Shoemaker(?) and Philips paper."
      ]
    },
    {
      "cell_type": "code",
      "execution_count": null,
      "metadata": {
        "colab": {
          "base_uri": "https://localhost:8080/"
        },
        "id": "wT0u-hNnkVBN",
        "outputId": "45c001d8-fb57-49b7-feec-cb1560de96df"
      },
      "outputs": [
        {
          "name": "stdout",
          "output_type": "stream",
          "text": [
            "8.0  [nm]\n",
            "33.32  [nm]\n",
            "double check\n",
            "121.72000000000001  [nm]\n",
            "Need actual radii of gyration\n"
          ]
        }
      ],
      "source": [
        "Ang_to_nm = 0.1\n",
        "Ang_per_res = 3.4 # [A]\n",
        "\n",
        "D = 40*2 * Ang_to_nm # about 40 Ang across for 2 LIM domains\n",
        "print (D, \" [nm]\")\n",
        "\n",
        "\n",
        "aaNterm = 98\n",
        "L_freeN = aaNterm * Ang_per_res * Ang_to_nm # M1-M98\n",
        "print (L_freeN, \" [nm]\")\n",
        "\n",
        "aaCterm = 358. ; print(\"double check\")\n",
        "L_freeC = aaCterm * Ang_per_res * Ang_to_nm # Q338-M696\n",
        "print (L_freeC, \" [nm]\")\n",
        "\n",
        "# 2 LIM domains (not four?)\n",
        "print(\"Need actual radii of gyration\")\n",
        "twoLIM=4*2 # 40 A per lim, 2 of them.\n",
        "MSSSPseq = 5*Ang_to_nm * Ang_to_nm\n",
        "fourLIM = twoLIM + MSSSPseq + twoLIM"
      ]
    },
    {
      "cell_type": "code",
      "execution_count": null,
      "metadata": {
        "id": "fzm4n-MukOBR"
      },
      "outputs": [],
      "source": [
        "## We will use the Kd2= 0.565 uM of AID from experimnts as the reference unit\n",
        "\n",
        "# PKH I think we want the distance from a bound villin headpiece to the first LIM domain\n",
        "#tether_length = np.array([L_freeN,L_freeC])\n",
        "unphospho=L_freeC+fourLIM   # extended\n",
        "phospho = L_freeC + twoLIM\n",
        "tether_length = np.array([unphospho,phospho])\n",
        "\n",
        "conc = G_DZL(zeta,D,tether_length)\n",
        "\n",
        "#reference point\n",
        "ref_conc = conc[0]\n",
        "ref_unit = 1. #fit_tAID.  TBD\n",
        "\n",
        "effective_conc = (conc/ref_conc)*ref_unit\n"
      ]
    },
    {
      "cell_type": "code",
      "execution_count": null,
      "metadata": {
        "colab": {
          "base_uri": "https://localhost:8080/",
          "height": 462
        },
        "id": "V97x7lBeia__",
        "outputId": "944cc817-cc3d-4e3f-e714-1d64924b9818"
      },
      "outputs": [
        {
          "data": {
            "image/png": "[encoded data removed]",
            "text/plain": [
              "<Figure size 640x480 with 1 Axes>"
            ]
          },
          "metadata": {},
          "output_type": "display_data"
        }
      ],
      "source": [
        "plt.rcParams['font.size']=12\n",
        "plt.rcParams['axes.labelsize'] = 12\n",
        "plt.rcParams['xtick.labelsize'] = 12\n",
        "plt.rcParams['ytick.labelsize'] = 12\n",
        "#['figure.figsize'] = 2,1\n",
        "\n",
        "\n",
        "# C-terminus\n",
        "res = 1\n",
        "Lmin = res*Ang_per_res * Ang_to_nm  # tether length [nm]\n",
        "#res = aaCterm\n",
        "#Lmax = res*Ang_per_res * Ang_to_nm  # tether length [nm]\n",
        "Lmax =tether_length[0] # extended\n",
        "Ls = np.linspace(Lmin,Lmax,1000)\n",
        "\n",
        "#L_per_res = 0.34 #nm\n",
        "#zeta=3\n",
        "\n",
        "\n",
        "ls = np.linspace(tether_length[1],tether_length[0],10)\n",
        "\n",
        "# Flexible (e.g. Cterminal end is highly phosphorylated)\n",
        "fig, ax1 = plt.subplots()\n",
        "ys = (G_DZL(zeta,D,Ls)/ref_conc)*ref_unit\n",
        "ax1.plot(Ls, ys,'k--',label='++p C-term/swollen coil')\n",
        "conc = G_DZL(zeta,D,tether_length)\n",
        "effective_conc = (conc/ref_conc)*ref_unit\n",
        "ax1.scatter(tether_length[0],effective_conc[0],facecolor='white',edgecolor='blue',s=25,zorder=3,label='-p MSSSP')\n",
        "ax1.scatter(tether_length[1],effective_conc[1],facecolor='white',edgecolor='red',s=25,zorder=3,label='+p MSSSP')\n",
        "\n",
        "ys = (G_DZL(zeta,D,ls)/ref_conc)*ref_unit\n",
        "ax1.fill_between(ls, ys, edgecolor='none',facecolor='green', alpha=0.2)\n",
        "\n",
        "# Stiffer (C terminal comprises series of moderately-folded domains)\n",
        "zetaS=zeta*5.\n",
        "ys = (G_DZL(zetaS,D,Ls)/ref_conc)*ref_unit\n",
        "ax1.plot(Ls, ys,'k-',label='-p C-term /(coil+hairpin)')\n",
        "conc = G_DZL(zetaS,D,tether_length)\n",
        "effective_conc = (conc/ref_conc)*ref_unit\n",
        "ax1.scatter(tether_length[0],effective_conc[0],facecolor='white',edgecolor='blue',s=25,zorder=3)#,label='N-term')\n",
        "ax1.scatter(tether_length[1],effective_conc[1],facecolor='white',edgecolor='red',s=25,zorder=3)#,label='C-term')\n",
        "\n",
        "ys = (G_DZL(zetaS,D,ls)/ref_conc)*ref_unit\n",
        "ax1.fill_between(ls, ys, edgecolor='none',facecolor='green', alpha=0.8)\n",
        "\n",
        "#####\n",
        "ax1.set_xlabel(\"L [nm]\")#fontsize=8)\n",
        "ax1.legend(\n",
        "    #fontsize=10.5,\n",
        "    loc=0)#(0.5,0.6), ncol=1)\n",
        "\n",
        "#ax2.tick_params(labelsize=8)\n",
        "#ax1.tick_params(labelsize=7)\n",
        "ax1.set_ylabel(\"[IDR]$^{eff}$  [$\\mu$M]\")#,fontsize=8)\n",
        "ax1.set_yticks([0,2])#,6,8,10])\n",
        "\n",
        "\n",
        "plt.gcf().savefig(\"effconc.png\",dpi=300)"
      ]
    },
    {
      "cell_type": "markdown",
      "metadata": {
        "id": "9qPnplubkE1t"
      },
      "source": [
        "Doing some back of the envelope calculations for the myofilament.\n",
        "The N-terminal fragment of ABLIM1 is ca 97 a.a. A 100 aa fragment would be about 34 nm if end to end. In the WLC model, $R^2$ is 23 nm$^2$ or $R=4.8$.\n",
        "\n",
        "\n"
      ]
    },
    {
      "cell_type": "code",
      "execution_count": null,
      "metadata": {
        "colab": {
          "base_uri": "https://localhost:8080/"
        },
        "id": "DDQAHGLM97oF",
        "outputId": "be4f94af-74af-4585-862e-b9c5e8a26618"
      },
      "outputs": [
        {
          "name": "stdout",
          "output_type": "stream",
          "text": [
            "32.980000000000004  [nm]\n",
            "R^2: 22.8\n",
            "sqrt(R^2): 4.8 [nm]\n"
          ]
        }
      ],
      "source": [
        "import numpy as np\n",
        "aaNterm = 97\n",
        "L_freeN = aaNterm * Ang_per_res * Ang_to_nm # M1-M98\n",
        "print (L_freeN, \" [nm]\")\n",
        "rsqd = RR_DZL(zeta,L_freeN)\n",
        "print(\"R^2: %3.1f [nm]\"%rsqd)\n",
        "print(\"sqrt(R^2): %3.1f [nm]\"%np.sqrt(rsqd))"
      ]
    },
    {
      "cell_type": "markdown",
      "metadata": {
        "id": "Rog9jibKlSCn"
      },
      "source": [
        "The entire sequence is about 780 a.a. Sqrt of the squared distance suggests an avg distance of 13.6 nm.  "
      ]
    },
    {
      "cell_type": "code",
      "execution_count": null,
      "metadata": {
        "colab": {
          "base_uri": "https://localhost:8080/"
        },
        "id": "cfXAf-JRjGSY",
        "outputId": "8b58a411-ad41-4fbf-d233-8f9eff63f7f7"
      },
      "outputs": [
        {
          "name": "stdout",
          "output_type": "stream",
          "text": [
            "265.2  [nm]\n",
            "R^2: 185.4 [nm]\n",
            "sqrt(R^2): 13.6 [nm]\n"
          ]
        }
      ],
      "source": [
        "aaNterm = 780\n",
        "L_freeN = aaNterm * Ang_per_res * Ang_to_nm # M1-M98\n",
        "print (L_freeN, \" [nm]\")\n",
        "rsqd = RR_DZL(zeta,L_freeN)\n",
        "print(\"R^2: %3.1f [nm]\"%rsqd)\n",
        "print(\"sqrt(R^2): %3.1f [nm]\"%np.sqrt(rsqd))"
      ]
    },
    {
      "cell_type": "code",
      "execution_count": null,
      "metadata": {
        "id": "mEX_Jb4Cldfu"
      },
      "outputs": [],
      "source": []
    }
  ],
  "metadata": {
    "colab": {
      "provenance": []
    },
    "kernelspec": {
      "display_name": "Python 3 (ipykernel)",
      "language": "python",
      "name": "python3"
    },
    "language_info": {
      "codemirror_mode": {
        "name": "ipython",
        "version": 3
      },
      "file_extension": ".py",
      "mimetype": "text/x-python",
      "name": "python",
      "nbconvert_exporter": "python",
      "pygments_lexer": "ipython3",
      "version": "3.9.12"
    }
  },
  "nbformat": 4,
  "nbformat_minor": 0
}