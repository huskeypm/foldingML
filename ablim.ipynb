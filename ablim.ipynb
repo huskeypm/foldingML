{
  "nbformat": 4,
  "nbformat_minor": 0,
  "metadata": {
    "colab": {
      "provenance": [],
      "authorship_tag": "ABX9TyMleYeHDPZdGjFA9ao+vRak",
      "include_colab_link": true
    },
    "kernelspec": {
      "name": "python3",
      "display_name": "Python 3"
    },
    "language_info": {
      "name": "python"
    }
  },
  "cells": [
    {
      "cell_type": "markdown",
      "metadata": {
        "id": "view-in-github",
        "colab_type": "text"
      },
      "source": [
        "<a href=\"https://colab.research.google.com/github/huskeypm/foldingML/blob/main/ablim.ipynb\" target=\"_parent\"><img src=\"https://colab.research.google.com/assets/colab-badge.svg\" alt=\"Open In Colab\"/></a>"
      ]
    },
    {
      "cell_type": "markdown",
      "source": [
        "ABLIM1 seq\n",
        "MPAFLGLKCLGKLCSSEKSKVTSSERTSARGSNRKRLIVEDRRVSGTSFTAHRRATITHLLYLCPKDYCPRGRVCNSVDPFVAHPQDPHHPSEKPVIHCHKCGEPCKGEVLRVQTKHFHIKCFTCKVCGCDLAQGGFFIKNGEYLCTLDYQRMYGTRCHGCGEFVEGEVVTALGKTYHPNCFACTICKRPFPPGDRVTFNGRDCLCQLCAQPMSSSPKETTFSSNCAGCGRDIKNGQALLALDKQWHLGCFKCKSCGKVLTGEYISKDGAPYCEKDYQGLFGVKCEACHQFITGKVLEAGDKHYHPSCARCSRCNQMFTEGEEMYLQGSTVWHPDCKQSTKTEEKLRPTRTSSESIYSRPGSSIPGSPGHTIYAKVDNEILDYKDLAAIPKVKAIYDIERPDLITYEPFYTSGYDDKQERQSLGESPRTLSPTPSAEGYQDVRDRMIHRSTSQGSINSPVYSRHSYTPTTSRSPQHFHRPGNEPSSGRNSPLPYRPDSRPLTPTYAQAPKHFHVPDQGINIYRKPPIYKQHAALAAQSKSSEDIIKFSKFPAAQAPDPSETPKIETDHWPGPPSFAVVGPDMKRRSSGREEDDEELLRRRQLQEEQLMKLNSGLGQLILKEEMEKESRERSSLLASRYDSPINSASHIPSSKTASLPGYGRNGLHRPVSTDFAQYNSYGDVSGGVRDYQTLPDGHMPAMRMDRGVSMPNMLEPKIFPYEMLMVTNRGRNKILREVDRTRLERHLAPEVFREIFGMSIQEFDRLPLWRRNDMKKKAKLF"
      ],
      "metadata": {
        "id": "J9NZVAOQ-Q07"
      }
    },
    {
      "cell_type": "code",
      "source": [
        "import numpy as np\n",
        "import matplotlib.pylab as plt"
      ],
      "metadata": {
        "id": "Ijy7T_H7gud7"
      },
      "execution_count": null,
      "outputs": []
    },
    {
      "cell_type": "markdown",
      "source": [
        "ABLIM2 seq\n",
        "MSAVSQPQAAPSPLEKSPSTAILCNTCGNVCKGEVLRVQDKYFHIKCFVCKACGCDLAEGGFFVRQGEYICTLDYQRLYGTRCFSCDQFIEGEVVSALGKTYHPDCFVCAVCRLPFPPGDRVTFNGKECMCQKCSLPVSVGSSAHLSQGLRSCGGCGTEIKNGQALVALDKHWHLGCFKCKSCGKLLNAEYISKDGLPYCEADYHAKFGIRCDSCEKYITGRVLEAGEKHYHPSCALCVRCGQMFAEGEEMYLQGSSIWHPACRQAARTEDRNKETRTSSESIISVPASSTSGSPSRVIYAKLGGEILDYRDLAALPKSKAIYDIDRPDMISYSPYISHSAGDRQSYGEGDQDDRSYKQCRTSSPSSTGSVSLGRYTPTSRSPQHYSRPGSESGRSTPSLSVLSDSKPPPSTYQQAPRHFHVPDTGVKDNIYRKPPIYRQHAARRSDGEDGSLDQDNRKKSSWLMLKGDADTRTNSPDLDTQSLSHSSGTDRDPLQRMAGDSFHSRFPYSKSDPLPGHGKNGLDQRNANLAPCGADPDASWGMREYKIYPYDSLIVTNRIRVKLPKDVDRTRLERHLSPEEFQEVFGMSIEEFDRLALWKRNDLKKKALLF"
      ],
      "metadata": {
        "id": "wm4kJ2eV-aVt"
      }
    },
    {
      "cell_type": "markdown",
      "source": [
        "* ABLIM1's LIM domains span 97-343\n",
        "* ABLIM2's LIM domains span 22-270\n",
        "Aligned sequences using blast\n",
        "\n",
        "\n"
      ],
      "metadata": {
        "id": "4U26G6MF-fPM"
      }
    },
    {
      "cell_type": "code",
      "source": [
        "fastaAblim1='MPAFLGLKCLGKLCSSEKSKVTSSERTSARGSNRKRLIVEDRRVSGTSFTAHRRATITHLLYLCPKDYCPRGRVCNSVDPFVAHPQDPHHPSEKPVIHCHKCGEPCKGEVLRVQTKHFHIKCFTCKVCGCDLAQGGFFIKNGEYLCTLDYQRMYGTRCHGCGEFVEGEVVTALGKTYHPNCFACTICKRPFPPGDRVTFNGRDCLCQLCAQPMSSSPKETTFSSNCAGCGRDIKNGQALLALDKQWHLGCFKCKSCGKVLTGEYISKDGAPYCEKDYQGLFGVKCEACHQFITGKVLEAGDKHYHPSCARCSRCNQMFTEGEEMYLQGSTVWHPDCKQSTKTEEKLRPTRTSSESIYSRPGSSIPGSPGHTIYAKVDNEILDYKDLAAIPKVKAIYDIERPDLITYEPFYTSGYDDKQERQSLGESPRTLSPTPSAEGYQDVRDRMIHRSTSQGSINSPVYSRHSYTPTTSRSPQHFHRPGNEPSSGRNSPLPYRPDSRPLTPTYAQAPKHFHVPDQGINIYRKPPIYKQHAALAAQSKSSEDIIKFSKFPAAQAPDPSETPKIETDHWPGPPSFAVVGPDMKRRSSGREEDDEELLRRRQLQEEQLMKLNSGLGQLILKEEMEKESRERSSLLASRYDSPINSASHIPSSKTASLPGYGRNGLHRPVSTDFAQYNSYGDVSGGVRDYQTLPDGHMPAMRMDRGVSMPNMLEPKIFPYEMLMVTNRGRNKILREVDRTRLERHLAPEVFREIFGMSIQEFDRLPLWRRNDMKKKAKLF'"
      ],
      "metadata": {
        "id": "Pgm14IXGgvlB"
      },
      "execution_count": null,
      "outputs": []
    },
    {
      "cell_type": "markdown",
      "source": [
        "## CIDER"
      ],
      "metadata": {
        "id": "oJK39lTlqy-X"
      }
    },
    {
      "cell_type": "code",
      "source": [
        "!pip3 install localcider"
      ],
      "metadata": {
        "colab": {
          "base_uri": "https://localhost:8080/"
        },
        "id": "4AEvIX_rq6If",
        "outputId": "e299ec20-3fca-46a7-8357-2a4047026c48"
      },
      "execution_count": null,
      "outputs": [
        {
          "output_type": "stream",
          "name": "stdout",
          "text": [
            "Collecting localcider\n",
            "  Downloading localcider-0.1.21.tar.gz (110 kB)\n",
            "\u001b[2K     \u001b[90m━━━━━━━━━━━━━━━━━━━━━━━━━━━━━━━━━━━━━━━━\u001b[0m \u001b[32m110.1/110.1 kB\u001b[0m \u001b[31m1.1 MB/s\u001b[0m eta \u001b[36m0:00:00\u001b[0m\n",
            "\u001b[?25h  Preparing metadata (setup.py) ... \u001b[?25l\u001b[?25hdone\n",
            "Requirement already satisfied: numpy in /usr/local/lib/python3.10/dist-packages (from localcider) (1.25.2)\n",
            "Requirement already satisfied: matplotlib in /usr/local/lib/python3.10/dist-packages (from localcider) (3.7.1)\n",
            "Requirement already satisfied: scipy in /usr/local/lib/python3.10/dist-packages (from localcider) (1.11.4)\n",
            "Collecting BioPython (from localcider)\n",
            "  Downloading biopython-1.83-cp310-cp310-manylinux_2_17_x86_64.manylinux2014_x86_64.whl (3.1 MB)\n",
            "\u001b[2K     \u001b[90m━━━━━━━━━━━━━━━━━━━━━━━━━━━━━━━━━━━━━━━━\u001b[0m \u001b[32m3.1/3.1 MB\u001b[0m \u001b[31m10.8 MB/s\u001b[0m eta \u001b[36m0:00:00\u001b[0m\n",
            "\u001b[?25hRequirement already satisfied: contourpy>=1.0.1 in /usr/local/lib/python3.10/dist-packages (from matplotlib->localcider) (1.2.0)\n",
            "Requirement already satisfied: cycler>=0.10 in /usr/local/lib/python3.10/dist-packages (from matplotlib->localcider) (0.12.1)\n",
            "Requirement already satisfied: fonttools>=4.22.0 in /usr/local/lib/python3.10/dist-packages (from matplotlib->localcider) (4.49.0)\n",
            "Requirement already satisfied: kiwisolver>=1.0.1 in /usr/local/lib/python3.10/dist-packages (from matplotlib->localcider) (1.4.5)\n",
            "Requirement already satisfied: packaging>=20.0 in /usr/local/lib/python3.10/dist-packages (from matplotlib->localcider) (24.0)\n",
            "Requirement already satisfied: pillow>=6.2.0 in /usr/local/lib/python3.10/dist-packages (from matplotlib->localcider) (9.4.0)\n",
            "Requirement already satisfied: pyparsing>=2.3.1 in /usr/local/lib/python3.10/dist-packages (from matplotlib->localcider) (3.1.2)\n",
            "Requirement already satisfied: python-dateutil>=2.7 in /usr/local/lib/python3.10/dist-packages (from matplotlib->localcider) (2.8.2)\n",
            "Requirement already satisfied: six>=1.5 in /usr/local/lib/python3.10/dist-packages (from python-dateutil>=2.7->matplotlib->localcider) (1.16.0)\n",
            "Building wheels for collected packages: localcider\n",
            "  Building wheel for localcider (setup.py) ... \u001b[?25l\u001b[?25hdone\n",
            "  Created wheel for localcider: filename=localcider-0.1.21-py3-none-any.whl size=116027 sha256=abfa40faf77b23f7013537bf8897c9c1466dc753f01fb5e8ed3cce6f51cf4035\n",
            "  Stored in directory: /root/.cache/pip/wheels/f3/81/3a/bc50ee0a0b35baa984d81c6c72e31316c88c11b33318d05a76\n",
            "Successfully built localcider\n",
            "Installing collected packages: BioPython, localcider\n",
            "Successfully installed BioPython-1.83 localcider-0.1.21\n"
          ]
        }
      ]
    },
    {
      "cell_type": "code",
      "source": [
        "import numpy as np\n",
        "import matplotlib.pylab as plt\n",
        "import localcider\n",
        "from localcider.sequenceParameters import SequenceParameters\n",
        "from localcider import plots\n",
        "import re\n",
        "import os"
      ],
      "metadata": {
        "id": "6qWA6jDOq2wR"
      },
      "execution_count": null,
      "outputs": []
    },
    {
      "cell_type": "markdown",
      "source": [
        "entire protein\n"
      ],
      "metadata": {
        "id": "FMTOic_7tU2m"
      }
    },
    {
      "cell_type": "code",
      "source": [
        "data = SequenceParameters(fastaAblim1)\n",
        "fp = data.get_fraction_positive()\n",
        "fn = data.get_fraction_negative()\n",
        "\n",
        "print(fp,fn)"
      ],
      "metadata": {
        "colab": {
          "base_uri": "https://localhost:8080/"
        },
        "id": "bzY1LbqWq_vF",
        "outputId": "0f62b78e-89c6-4329-daf6-ff7787458ce9"
      },
      "execution_count": null,
      "outputs": [
        {
          "output_type": "stream",
          "name": "stdout",
          "text": [
            "0.14267352185089974 0.11439588688946016\n"
          ]
        }
      ]
    },
    {
      "cell_type": "markdown",
      "source": [
        "N-terminus/C-terminus"
      ],
      "metadata": {
        "id": "cxoT_asJtY2Q"
      }
    },
    {
      "cell_type": "code",
      "source": [
        "nTerm = fastaAblim1[0:50]\n",
        "data = SequenceParameters(nTerm)\n",
        "fp = data.get_fraction_positive()\n",
        "fn = data.get_fraction_negative()\n",
        "\n",
        "print(fp,fn)\n",
        "\n",
        "\n",
        "cTerm = fastaAblim1[:-300]\n",
        "data = SequenceParameters(cTerm)\n",
        "fp = data.get_fraction_positive()\n",
        "fn = data.get_fraction_negative()\n",
        "\n",
        "print(fp,fn)\n"
      ],
      "metadata": {
        "colab": {
          "base_uri": "https://localhost:8080/"
        },
        "id": "buTY8LAbta5T",
        "outputId": "0db66f2d-6d50-4bfd-8ae4-b7c89517e103"
      },
      "execution_count": null,
      "outputs": [
        {
          "output_type": "stream",
          "name": "stdout",
          "text": [
            "0.22 0.08\n",
            "0.13389121338912133 0.10460251046025104\n"
          ]
        }
      ]
    },
    {
      "cell_type": "code",
      "source": [
        "cTerm"
      ],
      "metadata": {
        "colab": {
          "base_uri": "https://localhost:8080/",
          "height": 70
        },
        "id": "XaMZltW0te2B",
        "outputId": "a768f460-0be0-4acc-c042-46af9085e2ce"
      },
      "execution_count": null,
      "outputs": [
        {
          "output_type": "execute_result",
          "data": {
            "text/plain": [
              "'MPAFLGLKCLGKLCSSEKSKVTSSERTSARGSNRKRLIVEDRRVSGTSFTAHRRATITHLLYLCPKDYCPRGRVCNSVDPFVAHPQDPHHPSEKPVIHCHKCGEPCKGEVLRVQTKHFHIKCFTCKVCGCDLAQGGFFIKNGEYLCTLDYQRMYGTRCHGCGEFVEGEVVTALGKTYHPNCFACTICKRPFPPGDRVTFNGRDCLCQLCAQPMSSSPKETTFSSNCAGCGRDIKNGQALLALDKQWHLGCFKCKSCGKVLTGEYISKDGAPYCEKDYQGLFGVKCEACHQFITGKVLEAGDKHYHPSCARCSRCNQMFTEGEEMYLQGSTVWHPDCKQSTKTEEKLRPTRTSSESIYSRPGSSIPGSPGHTIYAKVDNEILDYKDLAAIPKVKAIYDIERPDLITYEPFYTSGYDDKQERQSLGESPRTLSPTPSAEGYQDVRDRMIHRSTSQGSINSPVYSRHSYTPTTSRSPQHFH'"
            ],
            "application/vnd.google.colaboratory.intrinsic+json": {
              "type": "string"
            }
          },
          "metadata": {},
          "execution_count": 7
        }
      ]
    },
    {
      "cell_type": "markdown",
      "source": [
        "## Worm like chain model\n",
        "\n",
        "\n",
        "Assuming here that\n",
        "* villin headpiece remains bound to actin\n",
        "* LIMs 1 and 2 are available to bind titin\n",
        "* LIMs 1 and 2 availability are modulated by MSSSP phosphorylation (between LIMs 2 and 3)\n"
      ],
      "metadata": {
        "id": "RWUOZdeQqtVd"
      }
    },
    {
      "cell_type": "code",
      "source": [
        "zeta = 0.35 #persistence length [nm]\n",
        "lenPerResi = 0.34 # [nm]\n",
        "#D = 53 *lenPerResi   # Residue between CaMBR C termimus (R414) and AID N-terminus (I467) is 52 a.a.\n",
        "                     # thus the distance should be 3.4 x 53\n",
        "#L = 8 * lenPerResi  # residue number between C-terminal of DH and N terminus of AID (DH is absorbed on CaM's surface)\n",
        "\n",
        "# for the effective concentration\n",
        "def G_DZL(zeta,D,L):\n",
        "    prefac = np.sqrt(3/(4*np.pi*zeta*L))\n",
        "    prefac =prefac*prefac*prefac\n",
        "    expon = -3*D*D/(4*zeta*L)\n",
        "    return prefac * np.exp(expon)\n",
        "\n",
        "# for R**2, see Eqn 5 in the mapid paper\n",
        "def RR_DZL(zeta,L):\n",
        "    prefac = 2*zeta * L\n",
        "    expon = np.exp(-L/zeta)\n",
        "    expon = (zeta/L) * (1-expon)\n",
        "    expon = 1 - expon\n",
        "    return prefac * expon"
      ],
      "metadata": {
        "id": "e818Zwsbkrv3"
      },
      "execution_count": null,
      "outputs": []
    },
    {
      "cell_type": "code",
      "source": [
        "Ang_to_nm = 0.1\n",
        "Ang_per_res = 3.4 # [A]\n",
        "\n",
        "D = 40*2 * Ang_to_nm # about 40 Ang across for 2 LIM domains\n",
        "print (D, \" [nm]\")\n",
        "\n",
        "\n",
        "aaNterm = 98\n",
        "L_freeN = aaNterm * Ang_per_res * Ang_to_nm # M1-M98\n",
        "print (L_freeN, \" [nm]\")\n",
        "\n",
        "aaCterm = 358. ; print(\"double check\")\n",
        "L_freeC = aaCterm * Ang_per_res * Ang_to_nm # Q338-M696\n",
        "print (L_freeC, \" [nm]\")\n",
        "\n",
        "# 2 LIM domains (not four?)\n",
        "print(\"Need actual radii of gyration\")\n",
        "twoLIM=4*2 # 40 A per lim, 2 of them.\n",
        "MSSSPseq = 5*Ang_to_nm * Ang_to_nm\n",
        "fourLIM = twoLIM + MSSSPseq + twoLIM"
      ],
      "metadata": {
        "colab": {
          "base_uri": "https://localhost:8080/"
        },
        "id": "wT0u-hNnkVBN",
        "outputId": "45c001d8-fb57-49b7-feec-cb1560de96df"
      },
      "execution_count": null,
      "outputs": [
        {
          "output_type": "stream",
          "name": "stdout",
          "text": [
            "8.0  [nm]\n",
            "33.32  [nm]\n",
            "double check\n",
            "121.72000000000001  [nm]\n",
            "Need actual radii of gyration\n"
          ]
        }
      ]
    },
    {
      "cell_type": "code",
      "source": [
        "## We will use the Kd2= 0.565 uM of AID from experimnts as the reference unit\n",
        "\n",
        "# PKH I think we want the distance from a bound villin headpiece to the first LIM domain\n",
        "#tether_length = np.array([L_freeN,L_freeC])\n",
        "unphospho=L_freeC+fourLIM   # extended\n",
        "phospho = L_freeC + twoLIM\n",
        "tether_length = np.array([unphospho,phospho])\n",
        "\n",
        "conc = G_DZL(zeta,D,tether_length)\n",
        "\n",
        "#reference point\n",
        "ref_conc = conc[0]\n",
        "ref_unit = 1. #fit_tAID.  TBD\n",
        "\n",
        "effective_conc = (conc/ref_conc)*ref_unit\n"
      ],
      "metadata": {
        "id": "fzm4n-MukOBR"
      },
      "execution_count": null,
      "outputs": []
    },
    {
      "cell_type": "code",
      "source": [
        "plt.rcParams['font.size']=12\n",
        "plt.rcParams['axes.labelsize'] = 12\n",
        "plt.rcParams['xtick.labelsize'] = 12\n",
        "plt.rcParams['ytick.labelsize'] = 12\n",
        "#['figure.figsize'] = 2,1\n",
        "\n",
        "\n",
        "# C-terminus\n",
        "res = 1\n",
        "Lmin = res*Ang_per_res * Ang_to_nm  # tether length [nm]\n",
        "#res = aaCterm\n",
        "#Lmax = res*Ang_per_res * Ang_to_nm  # tether length [nm]\n",
        "Lmax =tether_length[0] # extended\n",
        "Ls = np.linspace(Lmin,Lmax,1000)\n",
        "\n",
        "#L_per_res = 0.34 #nm\n",
        "#zeta=3\n",
        "\n",
        "\n",
        "ls = np.linspace(tether_length[1],tether_length[0],10)\n",
        "\n",
        "# Flexible (e.g. Cterminal end is highly phosphorylated)\n",
        "fig, ax1 = plt.subplots()\n",
        "ys = (G_DZL(zeta,D,Ls)/ref_conc)*ref_unit\n",
        "ax1.plot(Ls, ys,'k--',label='++p C-term/swollen coil')\n",
        "conc = G_DZL(zeta,D,tether_length)\n",
        "effective_conc = (conc/ref_conc)*ref_unit\n",
        "ax1.scatter(tether_length[0],effective_conc[0],facecolor='white',edgecolor='blue',s=25,zorder=3,label='-p MSSSP')\n",
        "ax1.scatter(tether_length[1],effective_conc[1],facecolor='white',edgecolor='red',s=25,zorder=3,label='+p MSSSP')\n",
        "\n",
        "ys = (G_DZL(zeta,D,ls)/ref_conc)*ref_unit\n",
        "ax1.fill_between(ls, ys, edgecolor='none',facecolor='green', alpha=0.2)\n",
        "\n",
        "# Stiffer (C terminal comprises series of moderately-folded domains)\n",
        "zetaS=zeta*5.\n",
        "ys = (G_DZL(zetaS,D,Ls)/ref_conc)*ref_unit\n",
        "ax1.plot(Ls, ys,'k-',label='-p C-term /(coil+hairpin)')\n",
        "conc = G_DZL(zetaS,D,tether_length)\n",
        "effective_conc = (conc/ref_conc)*ref_unit\n",
        "ax1.scatter(tether_length[0],effective_conc[0],facecolor='white',edgecolor='blue',s=25,zorder=3)#,label='N-term')\n",
        "ax1.scatter(tether_length[1],effective_conc[1],facecolor='white',edgecolor='red',s=25,zorder=3)#,label='C-term')\n",
        "\n",
        "ys = (G_DZL(zetaS,D,ls)/ref_conc)*ref_unit\n",
        "ax1.fill_between(ls, ys, edgecolor='none',facecolor='green', alpha=0.8)\n",
        "\n",
        "#####\n",
        "ax1.set_xlabel(\"L [nm]\")#fontsize=8)\n",
        "ax1.legend(\n",
        "    #fontsize=10.5,\n",
        "    loc=0)#(0.5,0.6), ncol=1)\n",
        "\n",
        "#ax2.tick_params(labelsize=8)\n",
        "#ax1.tick_params(labelsize=7)\n",
        "ax1.set_ylabel(\"[IDR]$^{eff}$  [$\\mu$M]\")#,fontsize=8)\n",
        "ax1.set_yticks([0,2])#,6,8,10])\n",
        "\n",
        "\n",
        "plt.gcf().savefig(\"effconc.png\",dpi=300)"
      ],
      "metadata": {
        "colab": {
          "base_uri": "https://localhost:8080/",
          "height": 462
        },
        "id": "V97x7lBeia__",
        "outputId": "944cc817-cc3d-4e3f-e714-1d64924b9818"
      },
      "execution_count": null,
      "outputs": [
        {
          "output_type": "display_data",
          "data": {
            "text/plain": [
              "<Figure size 640x480 with 1 Axes>"
            ],
            "image/png": "[encoded data removed]"
          },
          "metadata": {}
        }
      ]
    },
    {
      "cell_type": "markdown",
      "source": [
        "Doing some back of the envelope calculations for the myofilament.\n",
        "The N-terminal fragment of ABLIM1 is ca 97 a.a. A 100 aa fragment would be about 34 nm if end to end. In the WLC model, $R^2$ is 23 nm$^2$ or $R=4.8$.\n",
        "\n",
        "\n"
      ],
      "metadata": {
        "id": "9qPnplubkE1t"
      }
    },
    {
      "cell_type": "code",
      "source": [
        "import numpy as np\n",
        "aaNterm = 97\n",
        "L_freeN = aaNterm * Ang_per_res * Ang_to_nm # M1-M98\n",
        "print (L_freeN, \" [nm]\")\n",
        "rsqd = RR_DZL(zeta,L_freeN)\n",
        "print(\"R^2: %3.1f [nm]\"%rsqd)\n",
        "print(\"sqrt(R^2): %3.1f [nm]\"%np.sqrt(rsqd))"
      ],
      "metadata": {
        "id": "DDQAHGLM97oF",
        "colab": {
          "base_uri": "https://localhost:8080/"
        },
        "outputId": "be4f94af-74af-4585-862e-b9c5e8a26618"
      },
      "execution_count": null,
      "outputs": [
        {
          "output_type": "stream",
          "name": "stdout",
          "text": [
            "32.980000000000004  [nm]\n",
            "R^2: 22.8\n",
            "sqrt(R^2): 4.8 [nm]\n"
          ]
        }
      ]
    },
    {
      "cell_type": "markdown",
      "source": [
        "The entire sequence is about 780 a.a. Sqrt of the squared distance suggests an avg distance of 13.6 nm.  "
      ],
      "metadata": {
        "id": "Rog9jibKlSCn"
      }
    },
    {
      "cell_type": "code",
      "source": [
        "aaNterm = 780\n",
        "L_freeN = aaNterm * Ang_per_res * Ang_to_nm # M1-M98\n",
        "print (L_freeN, \" [nm]\")\n",
        "rsqd = RR_DZL(zeta,L_freeN)\n",
        "print(\"R^2: %3.1f [nm]\"%rsqd)\n",
        "print(\"sqrt(R^2): %3.1f [nm]\"%np.sqrt(rsqd))"
      ],
      "metadata": {
        "colab": {
          "base_uri": "https://localhost:8080/"
        },
        "id": "cfXAf-JRjGSY",
        "outputId": "8b58a411-ad41-4fbf-d233-8f9eff63f7f7"
      },
      "execution_count": null,
      "outputs": [
        {
          "output_type": "stream",
          "name": "stdout",
          "text": [
            "265.2  [nm]\n",
            "R^2: 185.4 [nm]\n",
            "sqrt(R^2): 13.6 [nm]\n"
          ]
        }
      ]
    },
    {
      "cell_type": "code",
      "source": [],
      "metadata": {
        "id": "mEX_Jb4Cldfu"
      },
      "execution_count": null,
      "outputs": []
    }
  ]
}